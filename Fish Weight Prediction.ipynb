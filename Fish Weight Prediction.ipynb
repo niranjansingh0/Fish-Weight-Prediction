{
 "cells": [
  {
   "cell_type": "code",
   "execution_count": 2,
   "metadata": {
    "executionInfo": {
     "elapsed": 660,
     "status": "ok",
     "timestamp": 1697344231366,
     "user": {
      "displayName": "Niranjan Singh",
      "userId": "01143993514341339716"
     },
     "user_tz": -330
    },
    "id": "FHsdkysYmD47"
   },
   "outputs": [],
   "source": [
    "# Step 1 : import library\n",
    "import pandas as pd"
   ]
  },
  {
   "cell_type": "code",
   "execution_count": 3,
   "metadata": {
    "executionInfo": {
     "elapsed": 636,
     "status": "ok",
     "timestamp": 1697344234002,
     "user": {
      "displayName": "Niranjan Singh",
      "userId": "01143993514341339716"
     },
     "user_tz": -330
    },
    "id": "57NXlDRImJB_"
   },
   "outputs": [],
   "source": [
    "# Step 2 : import data\n",
    "fish = pd.read_csv('Fish.csv')"
   ]
  },
  {
   "cell_type": "code",
   "execution_count": 4,
   "metadata": {
    "colab": {
     "base_uri": "https://localhost:8080/",
     "height": 206
    },
    "executionInfo": {
     "elapsed": 528,
     "status": "ok",
     "timestamp": 1697344243538,
     "user": {
      "displayName": "Niranjan Singh",
      "userId": "01143993514341339716"
     },
     "user_tz": -330
    },
    "id": "Q01mH_PEmJGv",
    "outputId": "b5cb689f-d7ac-4942-a32c-c5da33d580ca"
   },
   "outputs": [
    {
     "data": {
      "text/html": [
       "<div>\n",
       "<style scoped>\n",
       "    .dataframe tbody tr th:only-of-type {\n",
       "        vertical-align: middle;\n",
       "    }\n",
       "\n",
       "    .dataframe tbody tr th {\n",
       "        vertical-align: top;\n",
       "    }\n",
       "\n",
       "    .dataframe thead th {\n",
       "        text-align: right;\n",
       "    }\n",
       "</style>\n",
       "<table border=\"1\" class=\"dataframe\">\n",
       "  <thead>\n",
       "    <tr style=\"text-align: right;\">\n",
       "      <th></th>\n",
       "      <th>Category</th>\n",
       "      <th>Species</th>\n",
       "      <th>Weight</th>\n",
       "      <th>Height</th>\n",
       "      <th>Width</th>\n",
       "      <th>Length1</th>\n",
       "      <th>Length2</th>\n",
       "      <th>Length3</th>\n",
       "    </tr>\n",
       "  </thead>\n",
       "  <tbody>\n",
       "    <tr>\n",
       "      <th>0</th>\n",
       "      <td>1</td>\n",
       "      <td>Bream</td>\n",
       "      <td>242.0</td>\n",
       "      <td>11.5200</td>\n",
       "      <td>4.0200</td>\n",
       "      <td>23.2</td>\n",
       "      <td>25.4</td>\n",
       "      <td>30.0</td>\n",
       "    </tr>\n",
       "    <tr>\n",
       "      <th>1</th>\n",
       "      <td>1</td>\n",
       "      <td>Bream</td>\n",
       "      <td>290.0</td>\n",
       "      <td>12.4800</td>\n",
       "      <td>4.3056</td>\n",
       "      <td>24.0</td>\n",
       "      <td>26.3</td>\n",
       "      <td>31.2</td>\n",
       "    </tr>\n",
       "    <tr>\n",
       "      <th>2</th>\n",
       "      <td>1</td>\n",
       "      <td>Bream</td>\n",
       "      <td>340.0</td>\n",
       "      <td>12.3778</td>\n",
       "      <td>4.6961</td>\n",
       "      <td>23.9</td>\n",
       "      <td>26.5</td>\n",
       "      <td>31.1</td>\n",
       "    </tr>\n",
       "    <tr>\n",
       "      <th>3</th>\n",
       "      <td>1</td>\n",
       "      <td>Bream</td>\n",
       "      <td>363.0</td>\n",
       "      <td>12.7300</td>\n",
       "      <td>4.4555</td>\n",
       "      <td>26.3</td>\n",
       "      <td>29.0</td>\n",
       "      <td>33.5</td>\n",
       "    </tr>\n",
       "    <tr>\n",
       "      <th>4</th>\n",
       "      <td>1</td>\n",
       "      <td>Bream</td>\n",
       "      <td>430.0</td>\n",
       "      <td>12.4440</td>\n",
       "      <td>5.1340</td>\n",
       "      <td>26.5</td>\n",
       "      <td>29.0</td>\n",
       "      <td>34.0</td>\n",
       "    </tr>\n",
       "  </tbody>\n",
       "</table>\n",
       "</div>"
      ],
      "text/plain": [
       "   Category Species  Weight   Height   Width  Length1  Length2  Length3\n",
       "0         1   Bream   242.0  11.5200  4.0200     23.2     25.4     30.0\n",
       "1         1   Bream   290.0  12.4800  4.3056     24.0     26.3     31.2\n",
       "2         1   Bream   340.0  12.3778  4.6961     23.9     26.5     31.1\n",
       "3         1   Bream   363.0  12.7300  4.4555     26.3     29.0     33.5\n",
       "4         1   Bream   430.0  12.4440  5.1340     26.5     29.0     34.0"
      ]
     },
     "execution_count": 4,
     "metadata": {},
     "output_type": "execute_result"
    }
   ],
   "source": [
    "fish.head()"
   ]
  },
  {
   "cell_type": "code",
   "execution_count": 5,
   "metadata": {
    "colab": {
     "base_uri": "https://localhost:8080/"
    },
    "executionInfo": {
     "elapsed": 521,
     "status": "ok",
     "timestamp": 1697344259345,
     "user": {
      "displayName": "Niranjan Singh",
      "userId": "01143993514341339716"
     },
     "user_tz": -330
    },
    "id": "EcSheIPzmJMK",
    "outputId": "b7586dc6-6263-44c5-9a10-64e26a07d9ec"
   },
   "outputs": [
    {
     "name": "stdout",
     "output_type": "stream",
     "text": [
      "<class 'pandas.core.frame.DataFrame'>\n",
      "RangeIndex: 159 entries, 0 to 158\n",
      "Data columns (total 8 columns):\n",
      " #   Column    Non-Null Count  Dtype  \n",
      "---  ------    --------------  -----  \n",
      " 0   Category  159 non-null    int64  \n",
      " 1   Species   159 non-null    object \n",
      " 2   Weight    159 non-null    float64\n",
      " 3   Height    159 non-null    float64\n",
      " 4   Width     159 non-null    float64\n",
      " 5   Length1   159 non-null    float64\n",
      " 6   Length2   159 non-null    float64\n",
      " 7   Length3   159 non-null    float64\n",
      "dtypes: float64(6), int64(1), object(1)\n",
      "memory usage: 10.1+ KB\n"
     ]
    }
   ],
   "source": [
    "fish.info()"
   ]
  },
  {
   "cell_type": "code",
   "execution_count": 6,
   "metadata": {
    "colab": {
     "base_uri": "https://localhost:8080/",
     "height": 320
    },
    "executionInfo": {
     "elapsed": 506,
     "status": "ok",
     "timestamp": 1697344280538,
     "user": {
      "displayName": "Niranjan Singh",
      "userId": "01143993514341339716"
     },
     "user_tz": -330
    },
    "id": "SUKaduq2mJRO",
    "outputId": "1cad1b7f-2f30-49e8-8b2b-aedce8b7033b"
   },
   "outputs": [
    {
     "data": {
      "text/html": [
       "<div>\n",
       "<style scoped>\n",
       "    .dataframe tbody tr th:only-of-type {\n",
       "        vertical-align: middle;\n",
       "    }\n",
       "\n",
       "    .dataframe tbody tr th {\n",
       "        vertical-align: top;\n",
       "    }\n",
       "\n",
       "    .dataframe thead th {\n",
       "        text-align: right;\n",
       "    }\n",
       "</style>\n",
       "<table border=\"1\" class=\"dataframe\">\n",
       "  <thead>\n",
       "    <tr style=\"text-align: right;\">\n",
       "      <th></th>\n",
       "      <th>Category</th>\n",
       "      <th>Weight</th>\n",
       "      <th>Height</th>\n",
       "      <th>Width</th>\n",
       "      <th>Length1</th>\n",
       "      <th>Length2</th>\n",
       "      <th>Length3</th>\n",
       "    </tr>\n",
       "  </thead>\n",
       "  <tbody>\n",
       "    <tr>\n",
       "      <th>count</th>\n",
       "      <td>159.000000</td>\n",
       "      <td>159.000000</td>\n",
       "      <td>159.000000</td>\n",
       "      <td>159.000000</td>\n",
       "      <td>159.000000</td>\n",
       "      <td>159.000000</td>\n",
       "      <td>159.000000</td>\n",
       "    </tr>\n",
       "    <tr>\n",
       "      <th>mean</th>\n",
       "      <td>3.264151</td>\n",
       "      <td>398.326415</td>\n",
       "      <td>8.970994</td>\n",
       "      <td>4.417486</td>\n",
       "      <td>26.247170</td>\n",
       "      <td>28.415723</td>\n",
       "      <td>31.227044</td>\n",
       "    </tr>\n",
       "    <tr>\n",
       "      <th>std</th>\n",
       "      <td>1.704249</td>\n",
       "      <td>357.978317</td>\n",
       "      <td>4.286208</td>\n",
       "      <td>1.685804</td>\n",
       "      <td>9.996441</td>\n",
       "      <td>10.716328</td>\n",
       "      <td>11.610246</td>\n",
       "    </tr>\n",
       "    <tr>\n",
       "      <th>min</th>\n",
       "      <td>1.000000</td>\n",
       "      <td>0.000000</td>\n",
       "      <td>1.728400</td>\n",
       "      <td>1.047600</td>\n",
       "      <td>7.500000</td>\n",
       "      <td>8.400000</td>\n",
       "      <td>8.800000</td>\n",
       "    </tr>\n",
       "    <tr>\n",
       "      <th>25%</th>\n",
       "      <td>2.000000</td>\n",
       "      <td>120.000000</td>\n",
       "      <td>5.944800</td>\n",
       "      <td>3.385650</td>\n",
       "      <td>19.050000</td>\n",
       "      <td>21.000000</td>\n",
       "      <td>23.150000</td>\n",
       "    </tr>\n",
       "    <tr>\n",
       "      <th>50%</th>\n",
       "      <td>3.000000</td>\n",
       "      <td>273.000000</td>\n",
       "      <td>7.786000</td>\n",
       "      <td>4.248500</td>\n",
       "      <td>25.200000</td>\n",
       "      <td>27.300000</td>\n",
       "      <td>29.400000</td>\n",
       "    </tr>\n",
       "    <tr>\n",
       "      <th>75%</th>\n",
       "      <td>4.500000</td>\n",
       "      <td>650.000000</td>\n",
       "      <td>12.365900</td>\n",
       "      <td>5.584500</td>\n",
       "      <td>32.700000</td>\n",
       "      <td>35.500000</td>\n",
       "      <td>39.650000</td>\n",
       "    </tr>\n",
       "    <tr>\n",
       "      <th>max</th>\n",
       "      <td>7.000000</td>\n",
       "      <td>1650.000000</td>\n",
       "      <td>18.957000</td>\n",
       "      <td>8.142000</td>\n",
       "      <td>59.000000</td>\n",
       "      <td>63.400000</td>\n",
       "      <td>68.000000</td>\n",
       "    </tr>\n",
       "  </tbody>\n",
       "</table>\n",
       "</div>"
      ],
      "text/plain": [
       "         Category       Weight      Height       Width     Length1  \\\n",
       "count  159.000000   159.000000  159.000000  159.000000  159.000000   \n",
       "mean     3.264151   398.326415    8.970994    4.417486   26.247170   \n",
       "std      1.704249   357.978317    4.286208    1.685804    9.996441   \n",
       "min      1.000000     0.000000    1.728400    1.047600    7.500000   \n",
       "25%      2.000000   120.000000    5.944800    3.385650   19.050000   \n",
       "50%      3.000000   273.000000    7.786000    4.248500   25.200000   \n",
       "75%      4.500000   650.000000   12.365900    5.584500   32.700000   \n",
       "max      7.000000  1650.000000   18.957000    8.142000   59.000000   \n",
       "\n",
       "          Length2     Length3  \n",
       "count  159.000000  159.000000  \n",
       "mean    28.415723   31.227044  \n",
       "std     10.716328   11.610246  \n",
       "min      8.400000    8.800000  \n",
       "25%     21.000000   23.150000  \n",
       "50%     27.300000   29.400000  \n",
       "75%     35.500000   39.650000  \n",
       "max     63.400000   68.000000  "
      ]
     },
     "execution_count": 6,
     "metadata": {},
     "output_type": "execute_result"
    }
   ],
   "source": [
    "fish.describe()"
   ]
  },
  {
   "cell_type": "code",
   "execution_count": 7,
   "metadata": {
    "colab": {
     "base_uri": "https://localhost:8080/"
    },
    "executionInfo": {
     "elapsed": 458,
     "status": "ok",
     "timestamp": 1697344375192,
     "user": {
      "displayName": "Niranjan Singh",
      "userId": "01143993514341339716"
     },
     "user_tz": -330
    },
    "id": "O1HuFyfYm1zh",
    "outputId": "2d312690-e8af-4171-834b-745898d82fbc"
   },
   "outputs": [
    {
     "data": {
      "text/plain": [
       "Index(['Category', 'Species', 'Weight', 'Height', 'Width', 'Length1',\n",
       "       'Length2', 'Length3'],\n",
       "      dtype='object')"
      ]
     },
     "execution_count": 7,
     "metadata": {},
     "output_type": "execute_result"
    }
   ],
   "source": [
    "# Step 3 : define target (y) and features (X)\n",
    "fish.columns"
   ]
  },
  {
   "cell_type": "code",
   "execution_count": 8,
   "metadata": {
    "executionInfo": {
     "elapsed": 540,
     "status": "ok",
     "timestamp": 1697344389308,
     "user": {
      "displayName": "Niranjan Singh",
      "userId": "01143993514341339716"
     },
     "user_tz": -330
    },
    "id": "cDqiQ1ZMmJVp"
   },
   "outputs": [],
   "source": [
    "y = fish['Weight']"
   ]
  },
  {
   "cell_type": "code",
   "execution_count": 9,
   "metadata": {
    "executionInfo": {
     "elapsed": 481,
     "status": "ok",
     "timestamp": 1697344405077,
     "user": {
      "displayName": "Niranjan Singh",
      "userId": "01143993514341339716"
     },
     "user_tz": -330
    },
    "id": "xLCxd4MUmJaH"
   },
   "outputs": [],
   "source": [
    "X = fish[['Category','Height', 'Width', 'Length1',\n",
    "       'Length2', 'Length3']]"
   ]
  },
  {
   "cell_type": "code",
   "execution_count": 10,
   "metadata": {
    "executionInfo": {
     "elapsed": 1208,
     "status": "ok",
     "timestamp": 1697344424539,
     "user": {
      "displayName": "Niranjan Singh",
      "userId": "01143993514341339716"
     },
     "user_tz": -330
    },
    "id": "jOnHMsoDmJeb"
   },
   "outputs": [],
   "source": [
    "# Step 4 : train test split\n",
    "from sklearn.model_selection import train_test_split\n",
    "X_train, X_test, y_train, y_test = train_test_split(X,y, train_size=0.7, random_state=2529)"
   ]
  },
  {
   "cell_type": "code",
   "execution_count": 11,
   "metadata": {
    "colab": {
     "base_uri": "https://localhost:8080/"
    },
    "executionInfo": {
     "elapsed": 455,
     "status": "ok",
     "timestamp": 1697344441757,
     "user": {
      "displayName": "Niranjan Singh",
      "userId": "01143993514341339716"
     },
     "user_tz": -330
    },
    "id": "x4MkRnHomJiz",
    "outputId": "e4b27dfe-b1e5-468a-f86f-6cb286f3c66b"
   },
   "outputs": [
    {
     "data": {
      "text/plain": [
       "((111, 6), (48, 6), (111,), (48,))"
      ]
     },
     "execution_count": 11,
     "metadata": {},
     "output_type": "execute_result"
    }
   ],
   "source": [
    "# check shape of train and test sample\n",
    "X_train.shape, X_test.shape, y_train.shape, y_test.shape"
   ]
  },
  {
   "cell_type": "code",
   "execution_count": null,
   "metadata": {
    "executionInfo": {
     "elapsed": 443,
     "status": "ok",
     "timestamp": 1697344454619,
     "user": {
      "displayName": "Niranjan Singh",
      "userId": "01143993514341339716"
     },
     "user_tz": -330
    },
    "id": "HJ9V9SQomJm-"
   },
   "outputs": [],
   "source": [
    "# Step 5 : select model\n",
    "from sklearn.linear_model import LinearRegression\n",
    "model = LinearRegression()"
   ]
  },
  {
   "cell_type": "code",
   "execution_count": null,
   "metadata": {
    "colab": {
     "base_uri": "https://localhost:8080/",
     "height": 75
    },
    "executionInfo": {
     "elapsed": 476,
     "status": "ok",
     "timestamp": 1697344467956,
     "user": {
      "displayName": "Niranjan Singh",
      "userId": "01143993514341339716"
     },
     "user_tz": -330
    },
    "id": "2PZBZB84mJrF",
    "outputId": "4b13101a-bf74-432f-fc46-cedc5b87423c"
   },
   "outputs": [],
   "source": [
    "# Step 6 : train or fit model\n",
    "model.fit(X_train,y_train)"
   ]
  },
  {
   "cell_type": "code",
   "execution_count": null,
   "metadata": {
    "colab": {
     "base_uri": "https://localhost:8080/"
    },
    "executionInfo": {
     "elapsed": 525,
     "status": "ok",
     "timestamp": 1697344478329,
     "user": {
      "displayName": "Niranjan Singh",
      "userId": "01143993514341339716"
     },
     "user_tz": -330
    },
    "id": "FHTDG23QmJvq",
    "outputId": "473001b1-0e1d-4cb0-ab9e-7f4008833055"
   },
   "outputs": [],
   "source": [
    "model.intercept_"
   ]
  },
  {
   "cell_type": "code",
   "execution_count": null,
   "metadata": {
    "colab": {
     "base_uri": "https://localhost:8080/"
    },
    "executionInfo": {
     "elapsed": 637,
     "status": "ok",
     "timestamp": 1697344490845,
     "user": {
      "displayName": "Niranjan Singh",
      "userId": "01143993514341339716"
     },
     "user_tz": -330
    },
    "id": "qacWRTb_mJz7",
    "outputId": "d3e95321-01aa-45c3-db4a-832bbba66ab0"
   },
   "outputs": [],
   "source": [
    "model.coef_"
   ]
  },
  {
   "cell_type": "code",
   "execution_count": null,
   "metadata": {
    "executionInfo": {
     "elapsed": 15,
     "status": "ok",
     "timestamp": 1697344563350,
     "user": {
      "displayName": "Niranjan Singh",
      "userId": "01143993514341339716"
     },
     "user_tz": -330
    },
    "id": "dcJSIEg4mJ4g"
   },
   "outputs": [],
   "source": [
    "# Step 7 : predict model\n",
    "y_pred = model.predict(X_test)"
   ]
  },
  {
   "cell_type": "code",
   "execution_count": null,
   "metadata": {
    "colab": {
     "base_uri": "https://localhost:8080/"
    },
    "executionInfo": {
     "elapsed": 561,
     "status": "ok",
     "timestamp": 1697344577644,
     "user": {
      "displayName": "Niranjan Singh",
      "userId": "01143993514341339716"
     },
     "user_tz": -330
    },
    "id": "z0BnZjgtnrxK",
    "outputId": "a01a72d4-4e58-4e63-d6fe-69eb83f0ad6c"
   },
   "outputs": [],
   "source": [
    "y_pred"
   ]
  },
  {
   "cell_type": "code",
   "execution_count": null,
   "metadata": {
    "executionInfo": {
     "elapsed": 482,
     "status": "ok",
     "timestamp": 1697344587922,
     "user": {
      "displayName": "Niranjan Singh",
      "userId": "01143993514341339716"
     },
     "user_tz": -330
    },
    "id": "YH6X5IFmnrsQ"
   },
   "outputs": [],
   "source": [
    "# Step 8 : model accuracy\n",
    "from sklearn.metrics import mean_absolute_error, r2_score"
   ]
  },
  {
   "cell_type": "code",
   "execution_count": null,
   "metadata": {
    "colab": {
     "base_uri": "https://localhost:8080/"
    },
    "executionInfo": {
     "elapsed": 495,
     "status": "ok",
     "timestamp": 1697344600678,
     "user": {
      "displayName": "Niranjan Singh",
      "userId": "01143993514341339716"
     },
     "user_tz": -330
    },
    "id": "waqJKD54mJ9g",
    "outputId": "bc2a07b1-7e0e-4726-965c-145877c0d1c7"
   },
   "outputs": [],
   "source": [
    "mean_absolute_error(y_test,y_pred)"
   ]
  },
  {
   "cell_type": "code",
   "execution_count": null,
   "metadata": {
    "colab": {
     "base_uri": "https://localhost:8080/"
    },
    "executionInfo": {
     "elapsed": 14,
     "status": "ok",
     "timestamp": 1697344609347,
     "user": {
      "displayName": "Niranjan Singh",
      "userId": "01143993514341339716"
     },
     "user_tz": -330
    },
    "id": "0Za9n5r3mKCM",
    "outputId": "c85e682c-615a-43c4-d830-18f9b79e8d15"
   },
   "outputs": [],
   "source": [
    "r2_score(y_test,y_pred)"
   ]
  }
 ],
 "metadata": {
  "colab": {
   "authorship_tag": "ABX9TyPZIK5YvYB34qz968ER1uv1",
   "provenance": []
  },
  "kernelspec": {
   "display_name": "Python 3 (ipykernel)",
   "language": "python",
   "name": "python3"
  },
  "language_info": {
   "codemirror_mode": {
    "name": "ipython",
    "version": 3
   },
   "file_extension": ".py",
   "mimetype": "text/x-python",
   "name": "python",
   "nbconvert_exporter": "python",
   "pygments_lexer": "ipython3",
   "version": "3.12.3"
  }
 },
 "nbformat": 4,
 "nbformat_minor": 4
}
